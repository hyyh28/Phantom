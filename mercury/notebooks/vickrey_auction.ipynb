{
 "cells": [
  {
   "cell_type": "markdown",
   "metadata": {},
   "source": [
    "# Vickrey Auction\n",
    "\n",
    "> `Mercury` is an actor-based modelling framework for games on graphs.\n",
    "\n",
    "This notebook will go over an example implementation of a Vickrey Auction in `mercury`.\n",
    "\n",
    "The objective is to cover the key concepts in implementing your own games."
   ]
  },
  {
   "cell_type": "code",
   "execution_count": null,
   "metadata": {},
   "outputs": [],
   "source": [
    "import numpy as np\n",
    "import mercury as me\n",
    "import matplotlib.pyplot as plt\n",
    "\n",
    "from dataclasses import dataclass\n",
    "\n",
    "plt.style.use('bmh')"
   ]
  },
  {
   "cell_type": "markdown",
   "metadata": {},
   "source": [
    "## Message Types:"
   ]
  },
  {
   "cell_type": "code",
   "execution_count": null,
   "metadata": {},
   "outputs": [],
   "source": [
    "@dataclass(frozen=True)\n",
    "class PlaceBid(me.Message):\n",
    "    price: float"
   ]
  },
  {
   "cell_type": "markdown",
   "metadata": {},
   "source": [
    "## Actor Types:"
   ]
  },
  {
   "cell_type": "code",
   "execution_count": null,
   "metadata": {},
   "outputs": [],
   "source": [
    "class Bidder(me.actors.SimpleSyncActor):\n",
    "    \"\"\"Custom bidding actor.\n",
    "\n",
    "    This class does nothing, but acts as a wrapper around the SimpleSyncActor\n",
    "    for the sake of naming.\n",
    "    \"\"\"\n",
    "    pass"
   ]
  },
  {
   "cell_type": "code",
   "execution_count": null,
   "metadata": {},
   "outputs": [],
   "source": [
    "class Auctioneer(me.actors.Actor):\n",
    "    \"\"\"Vickrey auction mechanism.\n",
    "    \n",
    "    This class waits to receive all messages in a single timestep, sorts them,\n",
    "    and then responds to the winner with a FlowMessage. If multiple messages are\n",
    "    sent from a single Bidder, then the lowest price is taken.\n",
    "\n",
    "    The winner is defined as the best price, but the execution is applied at\n",
    "    the second best price.\n",
    "    \"\"\"\n",
    "    def handle_requests(self, ctx: me.Network.Context) -> None:\n",
    "        def get_bid(nid):\n",
    "            reqs = ctx.requests_from(nid)\n",
    "\n",
    "            return min(reqs, key=lambda req: req.price)\n",
    "\n",
    "        bids = [(nid, get_bid(nid)) for nid in ctx.neighbour_ids]\n",
    "        bids.sort(key=lambda x: x[1].price)\n",
    "\n",
    "        flow = me.Flow(inv=1.0, cash=-bids[-2][1].price)\n",
    "\n",
    "        ctx.send_response(bids[-1][0], me.FlowMessage(self.id, flow))"
   ]
  },
  {
   "cell_type": "markdown",
   "metadata": {},
   "source": [
    "## Custom Network Type:"
   ]
  },
  {
   "cell_type": "code",
   "execution_count": null,
   "metadata": {},
   "outputs": [],
   "source": [
    "class VickreyAuction(me.Network):\n",
    "    \"\"\"Wrapper around Network to simplify Vickrey auction simulations.\n",
    "\n",
    "    This class does two things:\n",
    "        1. Simplify the creation and connection of the Actioneer and Bidder actors.\n",
    "        2. Add a helper for placing a set of bids messages simultaneously.\n",
    "    \"\"\"\n",
    "    def __init__(self, n_bidders: int) -> None:\n",
    "        me.Network.__init__(self, actors={\n",
    "            'auctioneer': Auctioneer('auctioneer'),\n",
    "        })\n",
    "\n",
    "        for i in range(n_bidders):\n",
    "            bidder_id = 'bidder_{}'.format(i)\n",
    "\n",
    "            self.add_actor(Bidder(bidder_id))\n",
    "            self.add_connection(bidder_id, 'auctioneer')\n",
    "\n",
    "    def send_bids(self, bid_map):\n",
    "        for bidder_id, bid in bid_map.items():\n",
    "            req = PlaceBid(bidder_id, bid)\n",
    "\n",
    "            self.context_for(bidder_id).send_request('auctioneer', req)\n",
    "\n",
    "        return self"
   ]
  },
  {
   "cell_type": "markdown",
   "metadata": {},
   "source": [
    "## Run Simulation:"
   ]
  },
  {
   "cell_type": "code",
   "execution_count": null,
   "metadata": {},
   "outputs": [],
   "source": [
    "N_ROUNDS = 10000\n",
    "N_BIDDERS = 10"
   ]
  },
  {
   "cell_type": "code",
   "execution_count": null,
   "metadata": {},
   "outputs": [],
   "source": [
    "game = VickreyAuction(N_BIDDERS)\n",
    "\n",
    "for _ in range(N_ROUNDS):\n",
    "    game.send_bids({\n",
    "        'bidder_{}'.format(i): max(np.random.normal(loc=i, scale=2.0), 0.0)\n",
    "        for i in range(N_BIDDERS)\n",
    "    }).resolve()\n",
    "\n",
    "for i in range(N_BIDDERS):\n",
    "    bidder = game['bidder_{}'.format(i)]\n",
    "    avg_price = bidder.cash.current / bidder.inventory.current if abs(bidder.inventory) > 0.0 else 0.0\n",
    "    market_share = bidder.inventory.current / N_ROUNDS\n",
    "\n",
    "    print(\n",
    "        '{}:'.format(bidder.id),\n",
    "        avg_price,\n",
    "        '\\t({:.0%})'.format(market_share)\n",
    "    )"
   ]
  },
  {
   "cell_type": "code",
   "execution_count": null,
   "metadata": {},
   "outputs": [],
   "source": []
  },
  {
   "cell_type": "code",
   "execution_count": null,
   "metadata": {},
   "outputs": [],
   "source": []
  },
  {
   "cell_type": "code",
   "execution_count": null,
   "metadata": {},
   "outputs": [],
   "source": []
  },
  {
   "cell_type": "code",
   "execution_count": null,
   "metadata": {},
   "outputs": [],
   "source": []
  },
  {
   "cell_type": "code",
   "execution_count": null,
   "metadata": {},
   "outputs": [],
   "source": []
  },
  {
   "cell_type": "code",
   "execution_count": null,
   "metadata": {},
   "outputs": [],
   "source": []
  },
  {
   "cell_type": "code",
   "execution_count": null,
   "metadata": {},
   "outputs": [],
   "source": []
  },
  {
   "cell_type": "code",
   "execution_count": null,
   "metadata": {},
   "outputs": [],
   "source": []
  },
  {
   "cell_type": "code",
   "execution_count": null,
   "metadata": {},
   "outputs": [],
   "source": []
  },
  {
   "cell_type": "code",
   "execution_count": null,
   "metadata": {},
   "outputs": [],
   "source": []
  },
  {
   "cell_type": "code",
   "execution_count": null,
   "metadata": {},
   "outputs": [],
   "source": []
  },
  {
   "cell_type": "code",
   "execution_count": null,
   "metadata": {},
   "outputs": [],
   "source": []
  }
 ],
 "metadata": {
  "kernelspec": {
   "display_name": "ml",
   "language": "python",
   "name": "ml"
  },
  "language_info": {
   "codemirror_mode": {
    "name": "ipython",
    "version": 3
   },
   "file_extension": ".py",
   "mimetype": "text/x-python",
   "name": "python",
   "nbconvert_exporter": "python",
   "pygments_lexer": "ipython3",
   "version": "3.7.6"
  }
 },
 "nbformat": 4,
 "nbformat_minor": 2
}
