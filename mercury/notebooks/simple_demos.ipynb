{
 "cells": [
  {
   "cell_type": "markdown",
   "metadata": {},
   "source": [
    "# `mercury` Demos\n",
    "\n",
    "> `mercury` is an actor-based modelling framework for games on graphs.\n",
    "\n",
    "This notebook will go over some **examples usages** and how they relate to Phantom and the market making problem."
   ]
  },
  {
   "cell_type": "code",
   "execution_count": null,
   "metadata": {},
   "outputs": [],
   "source": [
    "import numpy as np\n",
    "import mercury as me\n",
    "import networkx as nx\n",
    "import matplotlib.pyplot as plt\n",
    "\n",
    "plt.style.use('bmh')"
   ]
  },
  {
   "cell_type": "code",
   "execution_count": null,
   "metadata": {},
   "outputs": [],
   "source": [
    "def plot(fg, figsize=(18, 6)):\n",
    "    plt.figure(figsize=figsize)\n",
    "\n",
    "    fg.is_directed = lambda: True\n",
    "    pos = nx.spring_layout(fg)\n",
    "\n",
    "    nx.draw_networkx_nodes(fg, pos, node_size=2500, node_color='skyblue', edgecolors='lightgrey', linewidths=4.0)\n",
    "    nx.draw_networkx_labels(fg, pos, labels={\n",
    "        n: n for n in fg.nodes\n",
    "    })\n",
    "\n",
    "    nx.draw_networkx_edges(\n",
    "        fg, pos, edgelist=list(fg.edges), nodelist=list(fg.nodes),\n",
    "        width=0.25, edge_color='#282828', connectionstyle='arc3, rad=0.1',\n",
    "        arrows=True, arrowstyle='simple', arrowsize=20, min_target_margin=30.0\n",
    "    )\n",
    "    nx.draw_networkx_edge_labels(fg, pos, {\n",
    "        epair: fg[epair[0]][epair[1]]['flow']\n",
    "        for epair in fg.edges\n",
    "    }, font_size=14, label_pos=0.3)\n",
    "\n",
    "    plt.axis('off')"
   ]
  },
  {
   "cell_type": "markdown",
   "metadata": {},
   "source": [
    "## Bilateral Trading Demo\n",
    "\n",
    "As a simple first example, let's consider a graph with two vertices: $\\mathcal{V} \\doteq \\{X, Y\\}$.\n",
    "\n",
    "We'll __interpret $X$ and $Y$ as being traders__ who exchange between \"the asset\" and cash bilaterally.\n",
    "\n",
    "For now, we'll use the in-built `SimpleSyncActor` which is a barebones actor used for basic tracking."
   ]
  },
  {
   "cell_type": "code",
   "execution_count": null,
   "metadata": {},
   "outputs": [],
   "source": [
    "x = me.actors.SimpleSyncActor('X')\n",
    "y = me.actors.SimpleSyncActor('Y')\n",
    "\n",
    "x, y"
   ]
  },
  {
   "cell_type": "markdown",
   "metadata": {},
   "source": [
    "Now, any actor must provide two things:\n",
    "1. A method for __handling incoming requests and (immediate) responses__.\n",
    "2. A means by which other actors can __view it's publicly available state__; i.e. a façade.\n",
    "\n",
    "### Views:\n",
    "\n",
    "Let's take a brief look at the view API:"
   ]
  },
  {
   "cell_type": "code",
   "execution_count": null,
   "metadata": {},
   "outputs": [],
   "source": [
    "x.view(), y.view()"
   ]
  },
  {
   "cell_type": "markdown",
   "metadata": {},
   "source": [
    "Above we can see that both $X$ and $Y$ provide a `View` object which contains __only partial information that each trader has made available to the world__.\n",
    "\n",
    "We can also refine this, to provide tailored information for a given adjacent node:"
   ]
  },
  {
   "cell_type": "code",
   "execution_count": null,
   "metadata": {},
   "outputs": [],
   "source": [
    "x.view('Y')"
   ]
  },
  {
   "cell_type": "markdown",
   "metadata": {},
   "source": [
    "In this case $X$ does not provide any additional information specifically for $Y$.\n",
    "\n",
    "In the general case, __this can be used to provide specific information to adjacent nodes on the graph that is only available to them__.\n",
    "\n",
    "### Messages:\n",
    "\n",
    "And now a brief look at the messaging API:\n",
    "\n",
    "`mercury` comes with many different message types. For now, we'll just consider the `FlowMessage` type:\n",
    "1. This allows us to send explicit `Flow` updates from on node to another."
   ]
  },
  {
   "cell_type": "code",
   "execution_count": null,
   "metadata": {},
   "outputs": [],
   "source": [
    "flow = me.Flow(inv=5.0, cash=-10.0)\n",
    "res = x.handle_request('Y', me.FlowMessage(flow))"
   ]
  },
  {
   "cell_type": "markdown",
   "metadata": {},
   "source": [
    "In the code above we __sent a total of 5 inventory units and -10 units of cash from node $Y$ to node $X$__:\n",
    "1. This corresponds to $Y$ selling 5 units to $X$ at a price of 2 per unit.\n",
    "\n",
    "The output of this function is a generator object (i.e. iterator). We can convert this to a list:"
   ]
  },
  {
   "cell_type": "code",
   "execution_count": null,
   "metadata": {},
   "outputs": [],
   "source": [
    "res = list(res)\n",
    "res"
   ]
  },
  {
   "cell_type": "markdown",
   "metadata": {},
   "source": [
    "In this case, `SimpleSyncActor` reponds with an equal and opposite message to signify that the request was successful.\n",
    "\n",
    "This informs the sender node to update it's own inventory and cash:"
   ]
  },
  {
   "cell_type": "code",
   "execution_count": null,
   "metadata": {},
   "outputs": [],
   "source": [
    "y.handle_response('X', res[0][1])"
   ]
  },
  {
   "cell_type": "markdown",
   "metadata": {},
   "source": [
    "__Important__ - this code is lazy and in some cases you _must consume the generator_ to actually process the incoming order!\n",
    "\n",
    "Anyway, if we now look at `x` and `y`, they now both have non-zero inventory and cash:"
   ]
  },
  {
   "cell_type": "code",
   "execution_count": null,
   "metadata": {},
   "outputs": [],
   "source": [
    "x.inventory, x.cash"
   ]
  },
  {
   "cell_type": "code",
   "execution_count": null,
   "metadata": {},
   "outputs": [],
   "source": [
    "y.inventory, y.cash"
   ]
  },
  {
   "cell_type": "markdown",
   "metadata": {},
   "source": [
    "### Networks:\n",
    "\n",
    "Now we introduce a `Network` which provides the scaffold for specifying relationships:"
   ]
  },
  {
   "cell_type": "code",
   "execution_count": null,
   "metadata": {},
   "outputs": [],
   "source": [
    "net = me.Network({\n",
    "    'X': me.actors.SimpleSyncActor('X'),\n",
    "    'Y': me.actors.SimpleSyncActor('Y')\n",
    "})\n",
    "plot(net.to_flow_graph(), figsize=(18, 4));"
   ]
  },
  {
   "cell_type": "code",
   "execution_count": null,
   "metadata": {},
   "outputs": [],
   "source": [
    "net['X'], net['Y']"
   ]
  },
  {
   "cell_type": "markdown",
   "metadata": {},
   "source": [
    "Aside from the unfortunate rendering, the diagram above shows the structure of the problem we just specified. Of course, it's a little boring.\n",
    "\n",
    "Next, we'll __add an edge between the two nodes__ which implies that there is a _trading relationship between $X$ and $Y$_."
   ]
  },
  {
   "cell_type": "code",
   "execution_count": null,
   "metadata": {},
   "outputs": [],
   "source": [
    "net.add_connection('X', 'Y')\n",
    "plot(net.to_flow_graph());"
   ]
  },
  {
   "cell_type": "markdown",
   "metadata": {},
   "source": [
    "There are a few key things to note about the diagram above:\n",
    "1. The __edges in the graph reflect the trading routes__ that are available to each actor (i.e. between $X$ and $Y$).\n",
    "2. __Each edge has a `Flow` object__ associated with it:\n",
    "    1. These _monitor the flow of inventory and cash from one actor to another_.\n",
    "    2. The `Network` class enforces these to be _strictly zero-sum_ with respect to the two nodes.\n",
    "\n",
    "As before, we can send messages across the network between actors:"
   ]
  },
  {
   "cell_type": "code",
   "execution_count": null,
   "metadata": {},
   "outputs": [],
   "source": [
    "net.send({\n",
    "    'Y': {\n",
    "        'X': [me.FlowMessage(flow)]\n",
    "    }\n",
    "})\n",
    "plot(net.to_flow_graph());"
   ]
  },
  {
   "cell_type": "markdown",
   "metadata": {},
   "source": [
    "__Note__ - this operation does not immediately send the request. Instead it just __loads it onto a set of queues!__ _See below; the inventory/cash has not changed:_\n",
    "\n",
    "__<ins>Important</ins>__: `Flow` objects on the edges are _transient/volatile_! They __only contain information about flow from $t_n \\to t_{n+1}$__."
   ]
  },
  {
   "cell_type": "code",
   "execution_count": null,
   "metadata": {},
   "outputs": [],
   "source": [
    "net['X'].inventory, net['X'].cash"
   ]
  },
  {
   "cell_type": "code",
   "execution_count": null,
   "metadata": {},
   "outputs": [],
   "source": [
    "net['Y'].inventory, net['Y'].cash"
   ]
  },
  {
   "cell_type": "markdown",
   "metadata": {},
   "source": [
    "__To consolidate the (volatile) messages, we must call `Network.resolve`:__"
   ]
  },
  {
   "cell_type": "code",
   "execution_count": null,
   "metadata": {},
   "outputs": [],
   "source": [
    "net.resolve()"
   ]
  },
  {
   "cell_type": "code",
   "execution_count": null,
   "metadata": {},
   "outputs": [],
   "source": [
    "net['X'].inventory, net['X'].cash"
   ]
  },
  {
   "cell_type": "code",
   "execution_count": null,
   "metadata": {},
   "outputs": [],
   "source": [
    "net['Y'].inventory, net['Y'].cash"
   ]
  },
  {
   "cell_type": "code",
   "execution_count": null,
   "metadata": {},
   "outputs": [],
   "source": [
    "plot(net.to_flow_graph());"
   ]
  },
  {
   "cell_type": "markdown",
   "metadata": {},
   "source": [
    "### Contexts:\n",
    "\n",
    "In addition to the `network`, `mercury` has a notion of context implemented as the class `Context`."
   ]
  },
  {
   "cell_type": "code",
   "execution_count": null,
   "metadata": {},
   "outputs": [],
   "source": [
    "ctx_x = net.context_for('X')"
   ]
  },
  {
   "cell_type": "markdown",
   "metadata": {},
   "source": [
    "These can be created from the original `network` instance (as above), and they contain information about the local network around a given node, such as...\n",
    "\n",
    "__The ego-node (i.e. central node):__"
   ]
  },
  {
   "cell_type": "code",
   "execution_count": null,
   "metadata": {},
   "outputs": [],
   "source": [
    "ctx_x.actor"
   ]
  },
  {
   "cell_type": "markdown",
   "metadata": {},
   "source": [
    "__The IDs of each adjacent node:__"
   ]
  },
  {
   "cell_type": "code",
   "execution_count": null,
   "metadata": {},
   "outputs": [],
   "source": [
    "list(ctx_x.neighbour_ids)"
   ]
  },
  {
   "cell_type": "markdown",
   "metadata": {},
   "source": [
    "__And the (tailored) views of these nodes:__"
   ]
  },
  {
   "cell_type": "code",
   "execution_count": null,
   "metadata": {},
   "outputs": [],
   "source": [
    "ctx_x.views"
   ]
  },
  {
   "cell_type": "markdown",
   "metadata": {},
   "source": [
    "In other words, the __`Context` objects represent (in an abstraction) all the information available locally to a node.__\n",
    "\n",
    "Another key feature of the `Context` objects is that they make sending messages very easy:"
   ]
  },
  {
   "cell_type": "code",
   "execution_count": null,
   "metadata": {},
   "outputs": [],
   "source": [
    "flow = me.Flow(inv=1.0, cash=-2.0)\n",
    "\n",
    "ctx_x.send_request('Y', me.message.FlowMessage(flow))"
   ]
  },
  {
   "cell_type": "code",
   "execution_count": null,
   "metadata": {},
   "outputs": [],
   "source": [
    "plot(net.to_flow_graph());"
   ]
  },
  {
   "cell_type": "markdown",
   "metadata": {},
   "source": [
    "And again, if we resolve these messages, then we arrive back at zeros along the edges:"
   ]
  },
  {
   "cell_type": "code",
   "execution_count": null,
   "metadata": {},
   "outputs": [],
   "source": [
    "net.resolve()\n",
    "plot(net.to_flow_graph());"
   ]
  },
  {
   "cell_type": "markdown",
   "metadata": {},
   "source": [
    "## Market Making Demo\n",
    "\n",
    "Now we will look at a simple market making problem with the following properties:\n",
    "1. There is a **single market maker** who trades bilaterally with **two investors**.\n",
    "2. The investors are not explicitly aware of one another.\n",
    "3. **Trades can only occur between the market maker and investors independently**.\n",
    "\n",
    "Crucially, _we do not care about the behaviour of these agents_. We only care about the mechanism of the market itself: \"how do trades occur?\", \"who can see what about the market?\", etc...\n",
    "\n",
    "### Construct the bipartite network:\n",
    "\n",
    "`mercury` comes with a number of market making problems pre-built. One of them, is the `FullConnectedBipartite` network. This corresponds to a trading network with two sets of actors - market makers and investors - where all nodes in one group are connected to all nodes in the other group."
   ]
  },
  {
   "cell_type": "code",
   "execution_count": null,
   "metadata": {},
   "outputs": [],
   "source": [
    "net = me.otc.markets.FullyConnectedBipartite(\n",
    "    {'MM': me.otc.actors.MarketMaker('MM')},\n",
    "    {\n",
    "        'INV_1': me.otc.actors.Investor('INV_1'),\n",
    "        'INV_2': me.otc.actors.Investor('INV_2')\n",
    "    }\n",
    ")"
   ]
  },
  {
   "cell_type": "code",
   "execution_count": null,
   "metadata": {},
   "outputs": [],
   "source": [
    "plot(net.to_flow_graph(), figsize=(26, 8))"
   ]
  },
  {
   "cell_type": "markdown",
   "metadata": {},
   "source": [
    "### Mutators:\n",
    "\n",
    "As seen above, we are now using `MarketMaker` and `Investor` types. The latter is basically just a `SimpleSyncActor`, but the `MarketMaker` has some special logic:\n",
    "1. It has __internal memory which tracks the prices it is currently offering__ to buy/sell off its clients.\n",
    "2. It can __handle incoming requests to buy/sell assets.__\n",
    "3. Provides a __client-specific view of the liquidity__ being quoted.\n",
    "\n",
    "The first part of this requires a mechanism to update the internal memory of the market maker - this is done via __mutation__:"
   ]
  },
  {
   "cell_type": "code",
   "execution_count": null,
   "metadata": {},
   "outputs": [],
   "source": [
    "PRICES = np.linspace(10.0, 20.0, 5)\n",
    "\n",
    "liq = np.zeros((PRICES.shape[0], 2))\n",
    "liq[-2:(PRICES.shape[0]+1), 0] = np.random.lognormal(size=2)\n",
    "liq[0:3, 1] = np.random.lognormal(size=3)\n",
    "\n",
    "net.mutate({\n",
    "    'MM': [me.otc.mutators.UpdateBooks(PRICES, {\n",
    "        'INV_1': me.lob.Liquidity(liq),\n",
    "        'INV_2': me.lob.Liquidity(liq)\n",
    "    })]\n",
    "})"
   ]
  },
  {
   "cell_type": "markdown",
   "metadata": {},
   "source": [
    "It's not hugely important how this work under the hood. The key point is that __we've now updated the internal state of the market maker__, such that:"
   ]
  },
  {
   "cell_type": "code",
   "execution_count": null,
   "metadata": {},
   "outputs": [],
   "source": [
    "print(net['MM'].books['INV_1'].to_liquidity(PRICES))"
   ]
  },
  {
   "cell_type": "code",
   "execution_count": null,
   "metadata": {},
   "outputs": [],
   "source": [
    "net['MM'].view('INV_1')"
   ]
  },
  {
   "cell_type": "code",
   "execution_count": null,
   "metadata": {},
   "outputs": [],
   "source": [
    "print(net['MM'].view('INV_1').book.to_liquidity(PRICES))"
   ]
  },
  {
   "cell_type": "markdown",
   "metadata": {},
   "source": [
    "_The two examples illustrate that you can either access actor member variables directly, or use the views._\n",
    "\n",
    "__The former is not good practice.__ It relies on the assumption that the `Actor` is fixed. `View` objects are meant to be public and will be more consistent.\n",
    "\n",
    "### Buying and selling:\n",
    "\n",
    "To take advantage of the liquidty now available, we can send some market order requests:"
   ]
  },
  {
   "cell_type": "code",
   "execution_count": null,
   "metadata": {},
   "outputs": [],
   "source": [
    "net.send({\n",
    "    'INV_1': {\n",
    "        'MM': [\n",
    "            me.lob.messages.PlaceMarketOrder.bid(quantity=1)\n",
    "        ]\n",
    "    },\n",
    "    'INV_2': {\n",
    "        'MM': [\n",
    "            me.lob.messages.PlaceMarketOrder.ask(quantity=1)\n",
    "        ]\n",
    "    }\n",
    "})"
   ]
  },
  {
   "cell_type": "code",
   "execution_count": null,
   "metadata": {},
   "outputs": [],
   "source": [
    "net.resolve()"
   ]
  },
  {
   "cell_type": "code",
   "execution_count": null,
   "metadata": {},
   "outputs": [],
   "source": [
    "net['INV_1'].inventory, net['INV_1'].cash"
   ]
  },
  {
   "cell_type": "code",
   "execution_count": null,
   "metadata": {},
   "outputs": [],
   "source": [
    "net['INV_2'].inventory, net['INV_2'].cash"
   ]
  },
  {
   "cell_type": "code",
   "execution_count": null,
   "metadata": {},
   "outputs": [],
   "source": [
    "net['MM'].inventory, net['MM'].cash"
   ]
  },
  {
   "cell_type": "markdown",
   "metadata": {},
   "source": [
    "## Summary\n",
    "\n",
    "We've covered a number of topics in this notebook. The key takeaway is that there are 3 components to `mercury`:\n",
    "1. The `Actor` and `View` types.\n",
    "2. The `Message` and `Mutator` types.\n",
    "3. The `Network` and `Context` types.\n",
    "\n",
    "While you are free to handle everything yourself, the `Network` class makes simulating graph-based games trivial.\n",
    "\n",
    "Hopefully you should have some idea now of what `mercury` can do.\n",
    "\n",
    "__The next part of the learning process is in learing how to create your own games.__"
   ]
  }
 ],
 "metadata": {
  "kernelspec": {
   "display_name": "ml",
   "language": "python",
   "name": "ml"
  },
  "language_info": {
   "codemirror_mode": {
    "name": "ipython",
    "version": 3
   },
   "file_extension": ".py",
   "mimetype": "text/x-python",
   "name": "python",
   "nbconvert_exporter": "python",
   "pygments_lexer": "ipython3",
   "version": "3.7.6"
  }
 },
 "nbformat": 4,
 "nbformat_minor": 2
}
